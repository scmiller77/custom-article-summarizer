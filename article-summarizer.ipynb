{
 "cells": [
  {
   "cell_type": "markdown",
   "metadata": {},
   "source": [
    "# Web Mining and Applied NLP (44-620)\n",
    "\n",
    "## Final Project: Article Summarizer\n",
    "\n",
    "### Student Name: Stephen Miller\n",
    "\n",
    "Perform the tasks described in the Markdown cells below.  When you have completed the assignment make sure your code cells have all been run (and have output beneath them) and ensure you have committed and pushed ALL of your changes to your assignment repository.\n",
    "\n",
    "You should bring in code from previous assignments to help you answer the questions below.\n",
    "\n",
    "Every question that requires you to write code will have a code cell underneath it; you may either write your entire solution in that cell or write it in a python file (`.py`), then import and run the appropriate code to answer the question."
   ]
  },
  {
   "cell_type": "markdown",
   "metadata": {},
   "source": [
    "1. Find on the internet an article or blog post about a topic that interests you and you are able to get the text for using the technologies we have applied in the course.  Get the html for the article and store it in a file (which you must submit with your project)"
   ]
  },
  {
   "cell_type": "code",
   "execution_count": 1,
   "metadata": {},
   "outputs": [],
   "source": [
    "import requests\n",
    "import pickle\n",
    "from bs4 import BeautifulSoup\n",
    "from collections import Counter\n",
    "import spacy\n",
    "import matplotlib.pyplot as plt\n",
    "import re\n",
    "from textblob import TextBlob\n",
    "\n",
    "\n",
    "\n",
    "#In this project, I will be reviewing MLK Jr's I Have a Dream speech, found here:\n",
    "\n",
    "#https://www.americanrhetoric.com/speeches/mlkihaveadream.htm\n",
    "\n",
    "\n"
   ]
  },
  {
   "cell_type": "markdown",
   "metadata": {},
   "source": [
    "2. Read in your article's html source from the file you created in question 1 and do sentiment analysis on the article/post's text (use `.get_text()`).  Print the polarity score with an appropriate label.  Additionally print the number of sentences in the original article (with an appropriate label)"
   ]
  },
  {
   "cell_type": "code",
   "execution_count": 2,
   "metadata": {},
   "outputs": [
    {
     "name": "stdout",
     "output_type": "stream",
     "text": [
      "“I Have A Dream” Speech by Dr. Martin Luther King, Jr.\n",
      "March on Washington for Jobs and Freedom\n",
      "August 28, 1963\n",
      "Speech Transcript\n",
      "I am happy to join with you today in what will go down in history as the greatest demonstration for freedom in the history of our nation. \n",
      "Five score years ago, a great American, in whose symbolic shadow we stand today, signed the Emancipation Proclamation. This momentous decree came as a great beacon light of hope to millions of Negro slaves   who had been seared in the flames of withering injustice. It came as a joyous daybreak to end the long night of their captivity. \n",
      "But one hundred years later , the Negro still is not free.  One hundred years later, the life of the Negro is still sadly crippled by the manacles of segregation and the chains of discrimination.  One hundred years later , the Negro lives on a lonely island of poverty in the midst of a vast ocean of material prosperity. One hundred years later  , the Negro is still languished in the corners of American society and finds himself in exile in his own land.  And so we’ve come here today to dramatize a shameful condition.\n",
      "In a sense we’ve come to our nation’s capital to cash a check. When the architects of our republic wrote the magnificent words of the Constitution and the Declaration of Independence , they were signing a promissory note to which every American was to fall heir. This note was a promise that all men, yes, black men as well as white men , would be guaranteed the unalienable rights of life, liberty, and the pursuit of happiness. It is obvious today that America has defaulted on this promissory note insofar as her citizens of color are concerned.  Instead of honoring this sacred obligation, America has given the Negro people a bad check, a check which has come back marked insufficient funds.  \n",
      "But we refuse to believe that the bank of justice is bankrupt.    We refuse to believe that there are insufficient funds in the great vaults of opportunity of this nation.  And so we’ve come to cash this check , a check that will give us upon demand the riches of freedom  and the security of justice.  \n",
      "We have also come to this hallowed spot  to remind America of the fierce urgency of now.  This is no time  to engage in the luxury of cooling off or to take the tranquilizing drug of gradualism.   Now is the time  to make real the promises of democracy.  Now is the time to rise from the dark and desolate valley of segregation to the sunlit path of racial justice. Now is the time  to lift our nation from the quicksands of racial injustice to the solid rock of brotherhood. Now is the time    to make justice a reality for all of God’s children.\n",
      "It would be fatal for the nation to overlook the urgency of the moment. This sweltering summer of the Negro’s legitimate discontent  will not pass until there is an invigorating autumn of freedom and equality.  1963 is not an end, but a beginning.  And those who hope that the Negro needed to blow off steam and will now be content will have a rude awakening if the nation returns to business as usual.  There will be neither rest nor tranquility in America until the Negro is granted his citizenship rights. The whirlwinds of revolt will continue to shake the foundations of our nation until the bright day of justice emerges.\n",
      "But there is something that I must say to my people, who stand on the warm threshold which leads into the palace of justice: in the process of gaining our rightful place, we must not be guilty of wrongful deeds. Let us not seek to satisfy our thirst for freedom by drinking from the cup of bitterness and hatred.   We must forever conduct our struggle on the high plane of dignity and discipline. We must not allow our creative protest to degenerate into physical violence.  Again and again , we must rise to the majestic heights  of meeting physical force with soul force.  The marvelous new militancy which has engulfed the Negro community must not lead us to a distrust of all white people , for many of our white brothers, as evidenced by their presence here today, have come to realize that their destiny is tied up with our destiny , and they have come to realize that their freedom is inextricably bound to our freedom. We cannot walk alone.\n",
      "And as we walk, we must make the pledge that we shall always march ahead. We cannot turn back. There are those who are asking the devotees of civil rights, “When will you be satisfied?”  We can never be satisfied as long as the Negro is the victim of the unspeakable horrors of police brutality.  We can never be satisfied  as long as our bodies, heavy with the fatigue of travel, cannot gain lodging in the motels of the highways and the hotels of the cities.  We cannot be satisfied as long as the Negro’s basic mobility is from a smaller ghetto to a larger one.  We can never be satisfied as long as our children are stripped of their selfhood and robbed of their dignity by signs stating for whites only.   We cannot be satisfied as long as a Negro in Mississippi cannot vote and a Negro in New York believes he has nothing for which to vote.   No, no, we are not satisfied and we will not be satisfied until justice rolls down like waters  and righteousness like a mighty stream.  \n",
      "I am not unmindful that some of you have come here out of great trials and tribulations.  Some of you have come fresh from narrow jail cells.  Some of you have come from areas where your quest for freedom left you battered by the storms of persecution  and staggered by the winds of police brutality. You have been the veterans of creative suffering. Continue to work with the faith  that unearned suffering is redemptive. Go back to Mississippi , go back to Alabama, go back to South Carolina, go back to Georgia, go back to Louisiana, go back to the slums and ghettos of our northern cities , knowing that somehow this situation can and will be changed.  Let us not wallow in the valley of despair. \n",
      "I say to you today, my friends , so even though we face the difficulties of today and tomorrow , I still have a dream.  It is a dream deeply rooted in the American dream. \n",
      "I have a dream  that one day  this nation will rise up and live out the true meaning of its creed : “We hold these truths to be self-evident, that all men are created equal.”  \n",
      "I have a dream that one day on the red hills of Georgia , the sons of former slaves and the sons of former slave owners will be able to sit down together at the table of brotherhood.\n",
      "I have a dream   that one day even the state of Mississippi, a state sweltering with the heat of injustice , sweltering with the heat of oppression , will be transformed into an oasis of freedom and justice.\n",
      "I have a dream   that my four little children  will one day live in a nation where they will not be judged by the color of their skin but by the content of their character.  I have a dream today. \n",
      "I have a dream that one day down in Alabama, with its vicious racists , with its governor having his lips dripping with the words of “interposition” and “nullification” , one day right there in Alabama little black boys and black girls will be able to join hands with little white boys and white girls as sisters and brothers. I have a dream today.  \n",
      "I have a dream that one day every valley shall be exalted , every hill and mountain shall be made low, the rough places will be made plain , and the crooked places will be made straight , and the glory of the Lord shall be revealed , and all flesh shall see it together. \n",
      "This is our hope.  This is the faith that I go back to the South with.  With this faith  we will be able to hew out of the mountain of despair a stone of hope.  With this faith  we will be able to transform the jangling discords of our nation  into a beautiful symphony of brotherhood.  With this faith  we will be able to work together, to pray together, to struggle together, to go to jail together , to stand up for freedom together , knowing that we will be free one day. \n",
      "This will be the day, this will be the day when all of God’s children  will be able to sing with new meaning: “My country, ‘tis of thee , sweet land of liberty, of thee I sing.  Land where my fathers died, land of the pilgrim’s pride , from every mountainside, let freedom ring!” \n",
      "And if America is to be a great nation , this must become true. So let freedom ring  from the prodigious hilltops of New Hampshire.  Let freedom ring from the mighty mountains of New York. Let freedom ring from the heightening Alleghenies of Pennsylvania.  Let freedom ring  from the snow-capped Rockies of Colorado.  Let freedom ring from the curvaceous slopes of California.  But not only that:  Let freedom ring from Stone Mountain of Georgia.   Let freedom ring from Lookout Mountain of Tennessee.  Let freedom ring from every hill and molehill of Mississippi.  From\n",
      "every\n",
      "mountainside  , let freedom ring.\n",
      "And when this happens  , and when we allow freedom ring , when we let it ring from every village and every hamlet, from every state and every city , we will be able to speed up that day when all of God’s children , black men  and white men , Jews and Gentiles, Protestants and Catholics , will be able to join hands and sing in the words of the old Negro spiritual: “Free at last!  Free at last! Thank God Almighty, we are free at last!”\n"
     ]
    }
   ],
   "source": [
    "#set URL and filename to push HTML info\n",
    "url = \"https://www.marshall.edu/onemarshallu/i-have-a-dream/\"\n",
    "\n",
    "#access data\n",
    "response = requests.get(url)\n",
    "\n",
    "html_info = response.text\n",
    "\n",
    "# Parse the HTML info using BeautifulSoup\n",
    "soup = BeautifulSoup(html_info, 'html.parser')\n",
    "\n",
    "article_content = soup.find(\"div\", class_=\"entry-content\")\n",
    "\n",
    "# Extract and print the data cleanly\n",
    "text = article_content.get_text(strip = True, separator = \"\\n\")\n",
    "#print(text)\n",
    "\n",
    "# Regular expression to remove text within parentheses () and brackets [],  because we don't want audience exclamations\n",
    "cleaned_text = re.sub(r\"\\([^()]*\\)|\\[[^\\[\\]]*\\]\", \"\", text)\n",
    "\n",
    "# Print the cleaned text\n",
    "print(cleaned_text.strip())  # .strip() to remove extra spaces or line breaks\n"
   ]
  },
  {
   "cell_type": "markdown",
   "metadata": {},
   "source": [
    "3. Load the article text into a trained `spaCy` pipeline, and determine the 5 most frequent tokens (converted to lower case).  Print the common tokens with an appropriate label.  Additionally, print the tokens their frequencies (with appropriate labels)"
   ]
  },
  {
   "cell_type": "code",
   "execution_count": 3,
   "metadata": {},
   "outputs": [
    {
     "name": "stdout",
     "output_type": "stream",
     "text": [
      "Most Frequent Tokens:\n",
      "Token: freedom, Frequency: 21\n",
      "Token: negro, Frequency: 15\n",
      "Token: let, Frequency: 13\n",
      "Token: dream, Frequency: 12\n",
      "Token: day, Frequency: 12\n"
     ]
    }
   ],
   "source": [
    "nlp = spacy.load(\"en_core_web_sm\")\n",
    "\n",
    "# Process the text with spaCy\n",
    "doc = nlp(cleaned_text)\n",
    "\n",
    "# Filter tokens: exclude punctuation, stopwords, and whitespace\n",
    "tokens = [\n",
    "    token.text.lower()\n",
    "    for token in doc\n",
    "    if not token.is_stop and not token.is_punct and not token.is_space\n",
    "]\n",
    "\n",
    "# Count token frequencies\n",
    "token_freq = Counter(tokens)\n",
    "\n",
    "# Get the 5 most common tokens\n",
    "most_common = token_freq.most_common(5)\n",
    "\n",
    "# Print the results\n",
    "print(\"Most Frequent Tokens:\")\n",
    "for token, freq in most_common:\n",
    "    print(f\"Token: {token}, Frequency: {freq}\")"
   ]
  },
  {
   "cell_type": "markdown",
   "metadata": {},
   "source": [
    "4. Load the article text into a trained `spaCy` pipeline, and determine the 5 most frequent lemmas (converted to lower case).  Print the common lemmas with an appropriate label.  Additionally, print the lemmas with their frequencies (with appropriate labels)."
   ]
  },
  {
   "cell_type": "code",
   "execution_count": 4,
   "metadata": {},
   "outputs": [
    {
     "name": "stdout",
     "output_type": "stream",
     "text": [
      "Most Frequent Lemmas:\n",
      "Lemma: freedom, Frequency: 21\n",
      "Lemma: negro, Frequency: 15\n",
      "Lemma: let, Frequency: 13\n",
      "Lemma: dream, Frequency: 12\n",
      "Lemma: come, Frequency: 12\n"
     ]
    }
   ],
   "source": [
    "# Filter tokens: exclude punctuation, stopwords, and whitespace\n",
    "lemmas = [\n",
    "    token.lemma_.lower()\n",
    "    for token in doc\n",
    "    if not token.is_stop and not token.is_punct and not token.is_space\n",
    "]\n",
    "\n",
    "# Count the lemma frequencies\n",
    "lemma_freq = Counter(lemmas)\n",
    "\n",
    "# Get the 5 most common lemmas\n",
    "most_common = lemma_freq.most_common(5)\n",
    "\n",
    "# Print the results\n",
    "print(\"Most Frequent Lemmas:\")\n",
    "for lemma, freq in most_common:\n",
    "    print(f\"Lemma: {lemma}, Frequency: {freq}\")"
   ]
  },
  {
   "cell_type": "markdown",
   "metadata": {},
   "source": [
    "5. Make a list containing the scores (using tokens) of every sentence in the article, and plot a histogram with appropriate titles and axis labels of the scores. From your histogram, what seems to be the most common range of scores (put the answer in a comment after your code)?"
   ]
  },
  {
   "cell_type": "code",
   "execution_count": 5,
   "metadata": {},
   "outputs": [
    {
     "data": {
      "image/png": "[encoded data removed]",
      "text/plain": [
       "<Figure size 1000x500 with 1 Axes>"
      ]
     },
     "metadata": {},
     "output_type": "display_data"
    }
   ],
   "source": [
    "def score_sentence_by_token(sentence, interesting_tokens):\n",
    "    #scored a sentence by the presense of interesting tokens\n",
    "    \n",
    "    #Ignores punctuation\n",
    "    tokens = [token.text.lower() for token in sentence if not token.is_punct]\n",
    "    if not tokens:\n",
    "        return 0.0\n",
    "    count = sum(1 for token in tokens if token in interesting_tokens)\n",
    "    return count / len(tokens)\n",
    "\n",
    "\n",
    "import matplotlib.pyplot as plt\n",
    "\n",
    "# Determine the most frequent tokens and lemmas\n",
    "tokens = [\n",
    "    token.text.lower()\n",
    "    for token in doc\n",
    "    if not token.is_stop and not token.is_punct and not token.is_space\n",
    "]\n",
    "token_freq = Counter(tokens)\n",
    "interesting_tokens = [token for token, _ in token_freq.most_common(5)]\n",
    "\n",
    "scores_by_token = [score_sentence_by_token(sentence, interesting_tokens) for sentence in doc.sents]\n",
    "\n",
    "# Plot histogram for token-based scores\n",
    "plt.figure(figsize=(10, 5))\n",
    "plt.hist(scores_by_token, bins=20, range=(0.0, 1.0), color='blue', edgecolor='black')\n",
    "plt.title(\"Histogram of Sentence Scores by Tokens\")\n",
    "plt.xlabel(\"Score\")\n",
    "plt.ylabel(\"Frequency\")\n",
    "plt.grid(axis='y')\n",
    "plt.show()\n"
   ]
  },
  {
   "cell_type": "markdown",
   "metadata": {},
   "source": [
    "6. Make a list containing the scores (using lemmas) of every sentence in the article, and plot a histogram with appropriate titles and axis labels of the scores.  From your histogram, what seems to be the most common range of scores (put the answer in a comment after your code)?"
   ]
  },
  {
   "cell_type": "code",
   "execution_count": 6,
   "metadata": {},
   "outputs": [
    {
     "data": {
      "image/png": "[encoded data removed]",
      "text/plain": [
       "<Figure size 1000x500 with 1 Axes>"
      ]
     },
     "metadata": {},
     "output_type": "display_data"
    }
   ],
   "source": [
    "def score_sentence_by_lemma(sentence, interesting_lemmas):\n",
    "    #Scores a sentence by the presence of interesting lemmas.\n",
    "\n",
    "    #Ignores punctuation\n",
    "    lemmas = [token.lemma_.lower() for token in sentence if not token.is_punct]\n",
    "    if not lemmas:\n",
    "        return 0.0\n",
    "    count = sum(1 for lemma in lemmas if lemma in interesting_lemmas)\n",
    "    return count / len(lemmas)\n",
    "\n",
    "lemmas = [\n",
    "    token.lemma_.lower()\n",
    "    for token in doc\n",
    "    if not token.is_stop and not token.is_punct and not token.is_space\n",
    "]\n",
    "lemma_freq = Counter(lemmas)\n",
    "interesting_lemmas = [lemma for lemma, _ in lemma_freq.most_common(5)]\n",
    "    \n",
    "\n",
    "scores_by_lemma = [score_sentence_by_lemma(sentence, interesting_lemmas) for sentence in doc.sents]\n",
    "\n",
    "# Plot histogram for lemma-based scores\n",
    "plt.figure(figsize=(10, 5))\n",
    "plt.hist(scores_by_lemma, bins=20, range=(0.0, 1.0), color='green', edgecolor='black')\n",
    "plt.title(\"Histogram of Sentence Scores by Lemmas\")\n",
    "plt.xlabel(\"Score\")\n",
    "plt.ylabel(\"Frequency\")\n",
    "plt.grid(axis='y')\n",
    "plt.show()"
   ]
  },
  {
   "cell_type": "markdown",
   "metadata": {},
   "source": [
    "7. Using the histograms from questions 5 and 6, decide a \"cutoff\" score for tokens and lemmas such that fewer than half the sentences would have a score greater than the cutoff score.  Record the scores in this Markdown cell\n",
    "\n",
    "* Cutoff Score (tokens): 0.08\n",
    "* Cutoff Score (lemmas): 0.08\n",
    "\n",
    "Feel free to change these scores as you generate your summaries.  Ideally, we're shooting for at least 6 sentences for our summary, but don't want more than 10 (these numbers are rough estimates; they depend on the length of your article)."
   ]
  },
  {
   "cell_type": "markdown",
   "metadata": {},
   "source": [
    "8. Create a summary of the article by going through every sentence in the article and adding it to an (initially) empty list if its score (based on tokens) is greater than the cutoff score you identified in question 8.  If your loop variable is named `sent`, you may find it easier to add `sent.text.strip()` to your list of sentences.  Print the summary (I would cleanly generate the summary text by `join`ing the strings in your list together with a space (`' '.join(sentence_list)`)."
   ]
  },
  {
   "cell_type": "code",
   "execution_count": 7,
   "metadata": {},
   "outputs": [
    {
     "name": "stdout",
     "output_type": "stream",
     "text": [
      "Summary:\n",
      "But one hundred years later , the Negro still is not free. This sweltering summer of the Negro’s legitimate discontent  will not pass until there is an invigorating autumn of freedom and equality. Let us not seek to satisfy our thirst for freedom by drinking from the cup of bitterness and hatred. Let us not wallow in the valley of despair. It is a dream deeply rooted in the American dream. I have a dream today. I have a dream today. Land where my fathers died, land of the pilgrim’s pride , from every mountainside, let freedom ring!” So let freedom ring  from the prodigious hilltops of New Hampshire. Let freedom ring from the mighty mountains of New York. Let freedom ring from the heightening Alleghenies of Pennsylvania. Let freedom ring  from the snow-capped Rockies of Colorado. Let freedom ring from the curvaceous slopes of California. But not only that:  Let freedom ring from Stone Mountain of Georgia. Let freedom ring from Lookout Mountain of Tennessee. Let freedom ring from every hill and molehill of Mississippi. From\n",
      "every\n",
      "mountainside  , let freedom ring.\n"
     ]
    }
   ],
   "source": [
    "# Define the cutoff score (e.g., average score or manually chosen threshold)\n",
    "cutoff_score = 0.08\n",
    "\n",
    "# Generate summary\n",
    "summary_sentences = [\n",
    "    sent.text.strip()\n",
    "    for sent in doc.sents\n",
    "    if score_sentence_by_token(sent, interesting_tokens) > cutoff_score\n",
    "]\n",
    "\n",
    "# Combine the sentences into a single summary text\n",
    "summary = ' '.join(summary_sentences)\n",
    "\n",
    "# Print the summary\n",
    "print(\"Summary:\")\n",
    "print(summary)\n"
   ]
  },
  {
   "cell_type": "markdown",
   "metadata": {},
   "source": [
    "9. Print the polarity score of your summary you generated with the token scores (with an appropriate label). Additionally, print the number of sentences in the summarized article."
   ]
  },
  {
   "cell_type": "code",
   "execution_count": 8,
   "metadata": {},
   "outputs": [
    {
     "name": "stdout",
     "output_type": "stream",
     "text": [
      "Polarity Score of the Summary: 0.05909090909090909\n",
      "Number of Sentences in the Summary: 17\n"
     ]
    }
   ],
   "source": [
    "# Compute the polarity score of the summary\n",
    "blob = TextBlob(summary)\n",
    "polarity_score = blob.sentiment.polarity\n",
    "\n",
    "# Print the results\n",
    "print(f\"Polarity Score of the Summary: {polarity_score}\")\n",
    "print(f\"Number of Sentences in the Summary: {len(summary_sentences)}\")"
   ]
  },
  {
   "cell_type": "markdown",
   "metadata": {},
   "source": [
    "10. Create a summary of the article by going through every sentence in the article and adding it to an (initially) empty list if its score (based on lemmas) is greater than the cutoff score you identified in question 8.  If your loop variable is named `sent`, you may find it easier to add `sent.text.strip()` to your list of sentences.  Print the summary (I would cleanly generate the summary text by `join`ing the strings in your list together with a space (`' '.join(sentence_list)`)."
   ]
  },
  {
   "cell_type": "code",
   "execution_count": 9,
   "metadata": {},
   "outputs": [
    {
     "name": "stdout",
     "output_type": "stream",
     "text": [
      "Summary:\n",
      "But one hundred years later , the Negro still is not free. This sweltering summer of the Negro’s legitimate discontent  will not pass until there is an invigorating autumn of freedom and equality. Let us not seek to satisfy our thirst for freedom by drinking from the cup of bitterness and hatred. Let us not wallow in the valley of despair. It is a dream deeply rooted in the American dream. I have a dream today. I have a dream today. Land where my fathers died, land of the pilgrim’s pride , from every mountainside, let freedom ring!” So let freedom ring  from the prodigious hilltops of New Hampshire. Let freedom ring from the mighty mountains of New York. Let freedom ring from the heightening Alleghenies of Pennsylvania. Let freedom ring  from the snow-capped Rockies of Colorado. Let freedom ring from the curvaceous slopes of California. But not only that:  Let freedom ring from Stone Mountain of Georgia. Let freedom ring from Lookout Mountain of Tennessee. Let freedom ring from every hill and molehill of Mississippi. From\n",
      "every\n",
      "mountainside  , let freedom ring.\n"
     ]
    }
   ],
   "source": [
    "# Define the cutoff score (e.g., average score or manually chosen threshold)\n",
    "cutoff_score = 0.08\n",
    "\n",
    "# Generate summary\n",
    "summary_sentences = [\n",
    "    sent.text.strip()\n",
    "    for sent in doc.sents\n",
    "    if score_sentence_by_lemma(sent, interesting_tokens) > cutoff_score\n",
    "]\n",
    "\n",
    "# Combine the sentences into a single summary text\n",
    "summary = ' '.join(summary_sentences)\n",
    "\n",
    "# Print the summary\n",
    "print(\"Summary:\")\n",
    "print(summary)"
   ]
  },
  {
   "cell_type": "markdown",
   "metadata": {},
   "source": [
    "11. Print the polarity score of your summary you generated with the lemma scores (with an appropriate label). Additionally, print the number of sentences in the summarized article."
   ]
  },
  {
   "cell_type": "code",
   "execution_count": 10,
   "metadata": {},
   "outputs": [
    {
     "name": "stdout",
     "output_type": "stream",
     "text": [
      "Polarity Score of the Summary: 0.05909090909090909\n",
      "Number of Sentences in the Summary: 17\n"
     ]
    }
   ],
   "source": [
    "# Compute the polarity score of the summary\n",
    "blob = TextBlob(summary)\n",
    "polarity_score = blob.sentiment.polarity\n",
    "\n",
    "# Print the results\n",
    "print(f\"Polarity Score of the Summary: {polarity_score}\")\n",
    "print(f\"Number of Sentences in the Summary: {len(summary_sentences)}\")"
   ]
  },
  {
   "cell_type": "markdown",
   "metadata": {},
   "source": [
    "12.  Compare your polarity scores of your summaries to the polarity scores of the initial article.  Is there a difference?  Why do you think that may or may not be?.  Answer in this Markdown cell.  "
   ]
  },
  {
   "cell_type": "markdown",
   "metadata": {},
   "source": [
    "The polarity scores are the exact same, because the sentiment of each doesn't change from changing words to their root form.Regardless if the word is change or changes, the sentiment stays the same. Another factor is how the speech is punchy in it's word choice, meaning there are specific words importantly placed to hammer home a point. When summarizing, these are typically picked up, and that goes for both methods of summarization. Also, the speech is fairly short, so it doesn't give much content for the two summaries to separate themselves with."
   ]
  },
  {
   "cell_type": "markdown",
   "metadata": {},
   "source": [
    "13. Based on your reading of the original article, which summary do you think is better (if there's a difference).  Why do you think this might be?"
   ]
  },
  {
   "cell_type": "markdown",
   "metadata": {},
   "source": [
    "As discussed in the previous answer, there is no difference between the two results. Both summaries did come up out pretty good, capturing important elements of the speech."
   ]
  }
 ],
 "metadata": {
  "kernelspec": {
   "display_name": ".venv",
   "language": "python",
   "name": "python3"
  },
  "language_info": {
   "codemirror_mode": {
    "name": "ipython",
    "version": 3
   },
   "file_extension": ".py",
   "mimetype": "text/x-python",
   "name": "python",
   "nbconvert_exporter": "python",
   "pygments_lexer": "ipython3",
   "version": "3.12.4"
  }
 },
 "nbformat": 4,
 "nbformat_minor": 4
}
